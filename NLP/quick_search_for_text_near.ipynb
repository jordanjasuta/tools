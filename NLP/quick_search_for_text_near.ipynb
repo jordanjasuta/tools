{
 "cells": [
  {
   "cell_type": "code",
   "execution_count": null,
   "metadata": {},
   "outputs": [],
   "source": [
    "teststring = pdfReader.getPage(4).extractText().replace('\\n', '').replace('\\r', '')\n",
    "\n",
    "tasks = re.findall(r\"(.{0,10}%s.{0,10})\" % 'housing', teststring, re.MULTILINE)\n",
    "tasks"
   ]
  }
 ],
 "metadata": {
  "kernelspec": {
   "display_name": "Python 3",
   "language": "python",
   "name": "python3"
  },
  "language_info": {
   "codemirror_mode": {
    "name": "ipython",
    "version": 3
   },
   "file_extension": ".py",
   "mimetype": "text/x-python",
   "name": "python",
   "nbconvert_exporter": "python",
   "pygments_lexer": "ipython3",
   "version": "3.7.4"
  }
 },
 "nbformat": 4,
 "nbformat_minor": 2
}

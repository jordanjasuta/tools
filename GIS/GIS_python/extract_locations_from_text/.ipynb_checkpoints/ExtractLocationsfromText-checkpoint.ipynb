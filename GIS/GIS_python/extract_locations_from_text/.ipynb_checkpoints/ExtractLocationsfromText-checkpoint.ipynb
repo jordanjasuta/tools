{
 "cells": [
  {
   "cell_type": "markdown",
   "metadata": {},
   "source": [
    "## Import all necessary packages"
   ]
  },
  {
   "cell_type": "code",
   "execution_count": null,
   "metadata": {},
   "outputs": [],
   "source": [
    "import docx2txt\n",
    "import spacy\n",
    "from collections import Counter\n",
    "import pandas as pd \n",
    "\n",
    "# from urllib import request\n",
    "# from geotext import GeoText\n",
    "\n",
    "from geopy.geocoders import Nominatim\n",
    "from geopy.exc import GeocoderTimedOut\n",
    "\n",
    "import plotly.express as px"
   ]
  },
  {
   "cell_type": "markdown",
   "metadata": {},
   "source": [
    "## Start by importing AirBnB document"
   ]
  },
  {
   "cell_type": "code",
   "execution_count": 5,
   "metadata": {},
   "outputs": [
    {
     "name": "stdout",
     "output_type": "stream",
     "text": [
      "Using Airbnb, a short-term rental service that enables homeowners or tenants to rent out properties for side income, is a huge hit with budget-conscious travelers. Regulatory boards around the world, however, can be a challenge. \n",
      "\n",
      "Among the problems that city governments and state regulators foresee with Airbnb are the potential to upend landlord-tenant relations (for example, a landlord could try to evict a tenant to charge higher short-term rents to vacationers). Regulators also fear a potential influx of travelers who will transform quiet residential neighborhoods into revolving hotel districts. There are also concerns about a current lack of oversight and accountability over Airbnb-related tax collection and adherence to zoning by-laws.\n",
      "\n",
      "Therefore, individuals who are considering using Airbnb (either to find a room or to rent out an apartment) should conduct due diligence to check that the city in question fosters a supportive environment for Airbnb. Moreover, the listing should comply with the city's current municipal codes.\n",
      "\n",
      "Paris, Barcelona, and Santa Monica, California. have some of the strictest policies regarding who can and can't rent through Airbnb, while Amsterdam, Berlin, London, San Francisco, and New York have looser requirements.\n",
      "\n",
      "Paris\n",
      "\n",
      "In 2018, a Paris official, Ian Brossat, criticized home rental services because he believes they displace local people from the main city.1﻿ Paris is the largest market in the world for Airbnb, which has over 60,000 apartments on offer. Other cities such as Spain, New York, and Santa Monica share the sentiments of Brossart. In 2015, there were government crackdowns on secondary apartments in Paris set up specifically as short-term rental units with officials fining violators up to €25,000.2﻿\n",
      "\n",
      "As of 2017, Air BnB landlords in France are required to register their home and display the registration number in their ad under the Elan Law.3﻿ Paris Mayor Anne Hidalgo, citing concerns that the proliferation of Air BnB listings in the city threatened to turn it into an “open-air museum,” announced in 2019 her plans to enforce the law’s €12.5 million fine for unregistered ads.4﻿\n",
      "\n",
      "Barcelona\n",
      "\n",
      "In May 2018, Barcelona continued its tough stance on Airbnb and other similar sites. The city instructed the site to remove 2,577 listings that it found to be operating without a city-approved license, or face substantial fines. Then on June 1, Airbnb and the city initiated an agreement giving Barcelona officials access to listings data. According to CityLab, \"For the first time, city officials will be able to refer to host data that details specifically where apartments are located and who their registered hosts are, something that could previously require substantial investigation.\"5﻿\n",
      "\n",
      "Host ID numbers will verify if linked apartments do indeed have permission. In 2016, Airbnb was hit with a (still unpaid and contested) €600,000 fine for listing unlicensed apartments, following a more modest €30,000 fine the year before (that same fine was also levied against the website HomeAway). Locals say that Air BnB rentals have made it even harder to find accommodation in the city, and the Catalonian government has gone as far as to start a social media campaign urging tourists to rat out illegal or suspected illegal short-term rentals.6﻿\n",
      "\n",
      " \n",
      "\n",
      "Despite challenges from some cities, there have been over 400 million Airbnb check-ins around the world in the last decade.\n",
      "\n",
      "Berlin\n",
      "\n",
      "German officials, placing some blame on Airbnb for Berlin's increasing rents and housing shortages, passed a law in 2014 banning short-term rentals that have not received explicit permission from the Berlin Senate.7﻿﻿8﻿ Prospective landlords could apply for a permit to rent out their properties for periods shorter than 60 days, but officials vowed to reject 95% of those applications under the 2014 law.9﻿\n",
      "\n",
      "However, in March 2018, the city’s assembly overturned that law.10﻿﻿11﻿ The ruling means that owner-occupiers can rent out their primary homes without time restrictions after obtaining a permit from city officials, and rent out second homes for up to 90 days each year.\n",
      "\n",
      "Amsterdam and London\n",
      "\n",
      "These two cities have been far more receptive to Airbnb than other European destinations. In February 2015, Amsterdam announced a cooperative effort with Airbnb in which the city would levy a tourist tax on rentals while Airbnb informed potential hosts of all rules and regulations.12﻿ However, in 2018, Amsterdam limited short-term rentals to 30 days a year, halving its previous limit.13﻿ And Londoners interested in renting out their properties on Airbnb have benefited from an amendment to the city’s housing legislation (which passed Parliament in March 2015), allowing homeowners to rent out their house, flat, or spare rooms for up to three months a year.14﻿\n",
      "\n",
      "Those living outside the Greater London area may rent their primary or secondary properties for up to 140 days a year. Airbnb is booming in London. A study from property services company Colliers suggested that Airbnb’s market share in London jumped threefold in 2017 from 2.8% to 7.6% of overnight stays.15﻿\n",
      "\n",
      "New York\n",
      "\n",
      "The biggest tourist destination in the United States is naturally no stranger to Airbnb. However, Recode reported that Airbnb took the city to court in August 2018 over a new law that would require Airbnb and other home-sharing companies to provide the city's enforcement agency the hosts’ names and addresses each month.16﻿ Airbnb claimed the law violated its users’ privacy and constitutional rights. New York City is Airbnb's largest market, but, according to the city, as many as two-thirds of Airbnb's listings are illegal. In January 2019, a federal judge blocked the law after declaring it unconstitutional. When a similar law was enacted in San Francisco, the number of listings on Airbnb dropped by 50%.17﻿\n",
      "\n",
      "San Francisco\n",
      "\n",
      "San Francisco adopted a similar policy as New York: Airbnb rentals are allowed only if hosts are full-time residents, rentals are capped at 90 days and all hosts must register with the city.18﻿ Violators are subject to a fine $484 a day for first-time offenders and $968 a day for repeat offenders.19﻿ However, despite these stipulations, the San Francisco Chronicle reported that only a fraction of Airbnb hosts have actually complied with the new law. Investigations in 2019 found that as many as half those applying for a short-term rental permit in San Francisco have been found to have lied on their applications, mostly about claiming falsely to be a resident of the home they’re renting. Furthermore, as in other cities, Airbnb faces mounting criticism from housing activists who blame the site for reducing the already-scant supply of housing.\n",
      "\n",
      "Santa Monica\n",
      "\n",
      "This city has effectively wiped out 80% of its Airbnb listings by instituting the toughest regulations on short-term rentals in the U.S. The southern California city said it was spurred by overall increases in housing prices and dwindling housing supply. The new regulations, which have been effective since June 2015, require anyone putting a listing on Airbnb in Santa Monica to live on the property during the renter’s stay, register for a business license, and collect a 14% occupancy tax from users that will be payable to the city.20﻿ In 2019, the City of Santa Monica reached an agreement with Airbnb in which the company agreed to remove illegal short-term listings from its website.21﻿ As of 2019, the city has only 351 short-term rental properties, most of which are listed on Airbnb.22﻿\n",
      "\n",
      "81,000\n",
      "\n",
      "The number of cities Airbnb has listings in, spread throughout 191 countries.\n",
      "\n",
      "The Bottom Line\n",
      "\n",
      "Airbnb is no stranger to controversy. Supporters argue that the service allows travelers to rent more affordable lodging while opponents accuse Airbnb of being a detriment to housing prices, supply, and neighborhood quality of life. Cities have a wide range of approaches in dealing with the service, from stringent Santa Monica to fairly laissez-faire Amsterdam. Given this situation, any prospective Airbnb host needs to know where their city lies on this spectrum. Otherwise, they have a possible chance of being slapped with a harsh penalty or, if a tenant, even evicted from their residence.\n",
      "\n",
      "\n",
      "\n",
      "Source: https://www.investopedia.com/articles/investing/083115/top-cities-where-airbnb-legal-or-illegal.asp\n"
     ]
    }
   ],
   "source": [
    "airbnbtext = docx2txt.process(\"airbnb_text.docx\")\n",
    "print(airbnbtext)"
   ]
  },
  {
   "cell_type": "markdown",
   "metadata": {},
   "source": [
    "## Use SpaCy to extract locations"
   ]
  },
  {
   "cell_type": "code",
   "execution_count": 6,
   "metadata": {},
   "outputs": [],
   "source": [
    "nlp = spacy.load('en')"
   ]
  },
  {
   "cell_type": "code",
   "execution_count": 12,
   "metadata": {
    "scrolled": true
   },
   "outputs": [
    {
     "name": "stdout",
     "output_type": "stream",
     "text": [
      "Paris\n",
      "Barcelona\n",
      "Santa Monica\n",
      "California\n",
      "Airbnb\n",
      "Amsterdam\n",
      "Berlin\n",
      "London\n",
      "San Francisco\n",
      "New York\n",
      "Paris\n",
      "Paris\n",
      "Paris\n",
      "Airbnb\n",
      "Spain\n",
      "New York\n",
      "Santa Monica\n",
      "Paris\n",
      "France\n",
      "Barcelona\n",
      "Airbnb\n",
      "Barcelona\n",
      "Airbnb\n",
      "Berlin\n",
      "Airbnb\n",
      "Berlin\n",
      "Amsterdam\n",
      "London\n",
      "Amsterdam\n",
      "Airbnb\n",
      "Amsterdam\n",
      "Greater London\n",
      "London\n",
      "Airbnb\n",
      "London\n",
      "stays.15﻿\n",
      "New York\n",
      "the United States\n",
      "Airbnb\n",
      "Airbnb\n",
      "New York City\n",
      "San Francisco\n",
      "San Francisco\n",
      "San Francisco\n",
      "New York\n",
      "San Francisco\n",
      "Santa Monica\n",
      "Airbnb\n",
      "U.S.\n",
      "California\n",
      "Airbnb\n",
      "Santa Monica\n",
      "the City of Santa Monica\n",
      "Airbnb\n",
      "Santa Monica\n",
      "Airbnb\n"
     ]
    }
   ],
   "source": [
    "locations = list()\n",
    "for ent in nlp(airbnbtext).ents:\n",
    "    if ent.label_ in ['GPE', 'LOC']:\n",
    "        locations.append(ent)\n",
    "        print(ent)"
   ]
  },
  {
   "cell_type": "markdown",
   "metadata": {},
   "source": [
    "## Collapse locations into dictionary "
   ]
  },
  {
   "cell_type": "markdown",
   "metadata": {},
   "source": [
    "#### (note some locations if worded differently will need additional mapping)"
   ]
  },
  {
   "cell_type": "code",
   "execution_count": 42,
   "metadata": {},
   "outputs": [],
   "source": [
    "c = Counter()\n",
    "for loc in locations:\n",
    "    c.update({loc.text: 1}) "
   ]
  },
  {
   "cell_type": "code",
   "execution_count": 43,
   "metadata": {},
   "outputs": [
    {
     "data": {
      "text/plain": [
       "Counter({'Paris': 5,\n",
       "         'Barcelona': 3,\n",
       "         'Santa Monica': 5,\n",
       "         'California': 2,\n",
       "         'Airbnb': 13,\n",
       "         'Amsterdam': 4,\n",
       "         'Berlin': 3,\n",
       "         'London': 4,\n",
       "         'San Francisco': 5,\n",
       "         'New York': 4,\n",
       "         'Spain': 1,\n",
       "         'France': 1,\n",
       "         'Greater London': 1,\n",
       "         'stays.15\\ufeff': 1,\n",
       "         'the United States': 1,\n",
       "         'New York City': 1,\n",
       "         'U.S.': 1,\n",
       "         'the City of Santa Monica': 1})"
      ]
     },
     "execution_count": 43,
     "metadata": {},
     "output_type": "execute_result"
    }
   ],
   "source": [
    "c"
   ]
  },
  {
   "cell_type": "markdown",
   "metadata": {},
   "source": [
    "'Greater London' needs to be mapped to 'London' for example..."
   ]
  },
  {
   "cell_type": "markdown",
   "metadata": {},
   "source": [
    "### Map terms using mapping.txt file (to add new terms, only need update the file)"
   ]
  },
  {
   "cell_type": "code",
   "execution_count": 73,
   "metadata": {},
   "outputs": [],
   "source": [
    "# newlist = list()\n",
    "# for loc in locations:\n",
    "#     texttoappend = loc.text\n",
    "#     for new in newlist:\n",
    "#         if new in loc.text:\n",
    "#             texttoappend = new\n",
    "#     newlist.append(texttoappend)"
   ]
  },
  {
   "cell_type": "code",
   "execution_count": 123,
   "metadata": {},
   "outputs": [],
   "source": [
    "def map_terms(input):\n",
    "    input = input.lower()\n",
    "    mapped = input.strip()\n",
    "    with open('mapping.txt') as f:\n",
    "        lines = f.read().splitlines()\n",
    "        for line in lines:\n",
    "            if input.strip() in line.split(','):\n",
    "                mapped = line.split(',')[0]\n",
    "            else:\n",
    "                continue\n",
    "\n",
    "    return(mapped.title())"
   ]
  },
  {
   "cell_type": "code",
   "execution_count": 105,
   "metadata": {},
   "outputs": [],
   "source": [
    "newlist = list()\n",
    "for loc in locations:\n",
    "    mapped_term = map_terms(loc.text)\n",
    "    newlist.append(mapped_term)"
   ]
  },
  {
   "cell_type": "code",
   "execution_count": 107,
   "metadata": {},
   "outputs": [],
   "source": [
    "c = Counter()\n",
    "for loc in newlist:\n",
    "    c.update({loc: 1}) "
   ]
  },
  {
   "cell_type": "code",
   "execution_count": 108,
   "metadata": {},
   "outputs": [
    {
     "data": {
      "text/plain": [
       "Counter({'Paris': 5,\n",
       "         'Barcelona': 3,\n",
       "         'Santa Monica': 6,\n",
       "         'California': 2,\n",
       "         'Airbnb': 13,\n",
       "         'Amsterdam': 4,\n",
       "         'Berlin': 3,\n",
       "         'London': 5,\n",
       "         'San Francisco': 5,\n",
       "         'New York': 4,\n",
       "         'Spain': 1,\n",
       "         'France': 1,\n",
       "         'Stays.15\\ufeff': 1,\n",
       "         'United States Of America': 2,\n",
       "         'New York City': 1})"
      ]
     },
     "execution_count": 108,
     "metadata": {},
     "output_type": "execute_result"
    }
   ],
   "source": [
    "c"
   ]
  },
  {
   "cell_type": "markdown",
   "metadata": {},
   "source": [
    "The mapping has created successful counts of city mentions"
   ]
  },
  {
   "cell_type": "markdown",
   "metadata": {},
   "source": [
    "## Make a df from the counts dictionary"
   ]
  },
  {
   "cell_type": "code",
   "execution_count": 116,
   "metadata": {},
   "outputs": [],
   "source": [
    "airbnb = pd.DataFrame(c.items())\n",
    "airbnb.columns = ['city', 'mentions']\n",
    "airbnb['sourcedoc'] = 'airbnb'  # add doc source "
   ]
  },
  {
   "cell_type": "code",
   "execution_count": 117,
   "metadata": {},
   "outputs": [
    {
     "data": {
      "text/html": [
       "<div>\n",
       "<style scoped>\n",
       "    .dataframe tbody tr th:only-of-type {\n",
       "        vertical-align: middle;\n",
       "    }\n",
       "\n",
       "    .dataframe tbody tr th {\n",
       "        vertical-align: top;\n",
       "    }\n",
       "\n",
       "    .dataframe thead th {\n",
       "        text-align: right;\n",
       "    }\n",
       "</style>\n",
       "<table border=\"1\" class=\"dataframe\">\n",
       "  <thead>\n",
       "    <tr style=\"text-align: right;\">\n",
       "      <th></th>\n",
       "      <th>city</th>\n",
       "      <th>mentions</th>\n",
       "      <th>sourcedoc</th>\n",
       "    </tr>\n",
       "  </thead>\n",
       "  <tbody>\n",
       "    <tr>\n",
       "      <th>0</th>\n",
       "      <td>Paris</td>\n",
       "      <td>5</td>\n",
       "      <td>airbnb</td>\n",
       "    </tr>\n",
       "    <tr>\n",
       "      <th>1</th>\n",
       "      <td>Barcelona</td>\n",
       "      <td>3</td>\n",
       "      <td>airbnb</td>\n",
       "    </tr>\n",
       "    <tr>\n",
       "      <th>2</th>\n",
       "      <td>Santa Monica</td>\n",
       "      <td>6</td>\n",
       "      <td>airbnb</td>\n",
       "    </tr>\n",
       "    <tr>\n",
       "      <th>3</th>\n",
       "      <td>California</td>\n",
       "      <td>2</td>\n",
       "      <td>airbnb</td>\n",
       "    </tr>\n",
       "    <tr>\n",
       "      <th>4</th>\n",
       "      <td>Airbnb</td>\n",
       "      <td>13</td>\n",
       "      <td>airbnb</td>\n",
       "    </tr>\n",
       "    <tr>\n",
       "      <th>5</th>\n",
       "      <td>Amsterdam</td>\n",
       "      <td>4</td>\n",
       "      <td>airbnb</td>\n",
       "    </tr>\n",
       "    <tr>\n",
       "      <th>6</th>\n",
       "      <td>Berlin</td>\n",
       "      <td>3</td>\n",
       "      <td>airbnb</td>\n",
       "    </tr>\n",
       "    <tr>\n",
       "      <th>7</th>\n",
       "      <td>London</td>\n",
       "      <td>5</td>\n",
       "      <td>airbnb</td>\n",
       "    </tr>\n",
       "    <tr>\n",
       "      <th>8</th>\n",
       "      <td>San Francisco</td>\n",
       "      <td>5</td>\n",
       "      <td>airbnb</td>\n",
       "    </tr>\n",
       "    <tr>\n",
       "      <th>9</th>\n",
       "      <td>New York</td>\n",
       "      <td>4</td>\n",
       "      <td>airbnb</td>\n",
       "    </tr>\n",
       "    <tr>\n",
       "      <th>10</th>\n",
       "      <td>Spain</td>\n",
       "      <td>1</td>\n",
       "      <td>airbnb</td>\n",
       "    </tr>\n",
       "    <tr>\n",
       "      <th>11</th>\n",
       "      <td>France</td>\n",
       "      <td>1</td>\n",
       "      <td>airbnb</td>\n",
       "    </tr>\n",
       "    <tr>\n",
       "      <th>12</th>\n",
       "      <td>Stays.15﻿</td>\n",
       "      <td>1</td>\n",
       "      <td>airbnb</td>\n",
       "    </tr>\n",
       "    <tr>\n",
       "      <th>13</th>\n",
       "      <td>United States Of America</td>\n",
       "      <td>2</td>\n",
       "      <td>airbnb</td>\n",
       "    </tr>\n",
       "    <tr>\n",
       "      <th>14</th>\n",
       "      <td>New York City</td>\n",
       "      <td>1</td>\n",
       "      <td>airbnb</td>\n",
       "    </tr>\n",
       "  </tbody>\n",
       "</table>\n",
       "</div>"
      ],
      "text/plain": [
       "                        city  mentions sourcedoc\n",
       "0                      Paris         5    airbnb\n",
       "1                  Barcelona         3    airbnb\n",
       "2               Santa Monica         6    airbnb\n",
       "3                 California         2    airbnb\n",
       "4                     Airbnb        13    airbnb\n",
       "5                  Amsterdam         4    airbnb\n",
       "6                     Berlin         3    airbnb\n",
       "7                     London         5    airbnb\n",
       "8              San Francisco         5    airbnb\n",
       "9                   New York         4    airbnb\n",
       "10                     Spain         1    airbnb\n",
       "11                    France         1    airbnb\n",
       "12                 Stays.15﻿         1    airbnb\n",
       "13  United States Of America         2    airbnb\n",
       "14             New York City         1    airbnb"
      ]
     },
     "execution_count": 117,
     "metadata": {},
     "output_type": "execute_result"
    }
   ],
   "source": [
    "airbnb"
   ]
  },
  {
   "cell_type": "markdown",
   "metadata": {},
   "source": [
    "## Repeat these steps for the Olympics document"
   ]
  },
  {
   "cell_type": "code",
   "execution_count": 118,
   "metadata": {
    "scrolled": true
   },
   "outputs": [
    {
     "name": "stdout",
     "output_type": "stream",
     "text": [
      "List of Olympic Games host cities\n",
      "\n",
      "From Wikipedia, the free encyclopedia\n",
      "\n",
      "Map of host cities and countries of the modern summer (orange) and winter (blue) Olympics. * Tokyo hosted the 2020 Summer Olympics in 2021. In the SVG file, tap or hover over a city to show its name (only on the desktop).\n",
      "\n",
      "This is a list of host cities of the Olympic Games, both summer and winter, since the modern Olympics began in 1896. Since then, summer and winter games have usually celebrated a four-year period known as an Olympiad; summer and winter games normally held in staggered even years. There have been 28 Summer Olympic Games held in 23 cities, and 23 Winter Olympic Games held in 20 cities. In addition, three summer and two winter editions of the games were scheduled to take place but later cancelled due to war: Berlin (summer) in 1916; Tokyo–Helsinki (summer) and Sapporo–Garmisch-Partenkirchen (winter) in 1940; and London (summer) and Cortina (winter) in 1944. The 1906 Intercalated Olympics were officially sanctioned and held in Athens. However, in 1949, the International Olympic Committee (IOC) decided to unrecognize the 1906 Games.[1][2] The 2020 Summer Olympics in Tokyo were postponed for the first time in the Olympics history to summer 2021 due to the COVID-19 pandemic with the 2022 Winter Olympics being held roughly six months later in Beijing.[3][4]\n",
      "\n",
      "The Youth Olympic Games are held every four years in staggered summer and winter events consistent with the current Olympic Games format, though in reverse order with Winter Games held in leap years instead of Summer Games. The first summer version was held in Singapore from 14 to 26 August 2010 while the first winter version was held in Innsbruck, Austria from 13 to 22 January 2012.[5]\n",
      "\n",
      "Five cities have been chosen by the IOC to host upcoming Olympic Games: Beijing for the 2022 Winter Olympics, Paris for the 2024 Summer Olympics, Milan–Cortina for the 2026 Winter Olympics, Los Angeles for the 2028 Summer Olympics, and Brisbane for the 2032 Summer Olympics. Additional two cities have been chosen by the IOC to host upcoming Youth Olympic Games: Dakar for the 2026 Summer Youth Olympics and Gangwon Province for the 2024 Winter Youth Olympics.\n",
      "\n",
      "In 2022, Beijing will become the first city that has held both the summer and the winter Olympic Games. Eleven cities will have hosted the Olympic Games more than once: Athens (1896 and 2004 Summer Olympics), Paris (1900, 1924 and 2024 Summer Olympics), London (1908, 1948 and 2012 Summer Olympics), St. Moritz (1928 and 1948 Winter Olympics), Lake Placid (1932 and 1980 Winter Olympics), Los Angeles (1932, 1984 and 2028 Summer Olympics), Cortina d'Ampezzo (1956 and 2026 Winter Olympics), Innsbruck (1964 and 1976 Winter Olympics and 2012 Winter Youth Olympics), Tokyo (1964 and 2020 Summer Olympics), Lillehammer (1994 Winter Olympics and 2016 Winter Youth Olympics), Gangwon Province (Pyeongchang) (2018 Winter Olympics and 2024 Winter Youth Olympics) and Beijing (2008 Summer Olympics and 2022 Winter Olympics). Stockholm hosted the 1912 Summer Olympics and the equestrian portion of the 1956 Summer Olympics. London became the first city to have hosted three Games with the 2012 Summer Olympics. Paris will become the second city to do this with the 2024 Summer Olympics, followed by Los Angeles as the third in 2028.\n",
      "\n",
      "The United States has hosted or been awarded a total of eight Olympic Games, more than any other country, followed by France with five and Japan with four editions. Switzerland, the United Kingdom, Austria, Australia, Canada, Italy and Germany have each hosted or been awarded three Games.\n",
      "\n",
      "The Games have primarily been hosted in the regions of Europe (32 editions) and the Americas (14 editions); seven Games have been hosted in Asia and two have been hosted in Oceania. In 2010, Singapore became Southeast Asia's first Olympic host city for the inaugural Summer Youth Olympics, while Rio de Janeiro became South America's first Olympic host city with the 2016 Summer Olympics, followed by Buenos Aires with the 2018 Summer Youth Olympics. The 2026 Summer Youth Olympics in Dakar will become the first-ever Games to be held on the African continent. Other major geographic regions which have never hosted the Olympics include the Middle East, Central Asia, the Indian subcontinent, Central America and the Caribbean.\n",
      "\n",
      "Host cities are selected by the IOC membership, usually seven years in advance.[6] The selection process lasts approximately two years. In the first stage, any city in the world may submit an application to become a host city. After 10 months, the Executive Board of the IOC decides which applicant cities will become official candidates as based on the recommendation of a working group that reviews the applications. In a second stage, the candidate cities are investigated thoroughly by an Evaluation Commission, which then submits a final short list of cities to be considered for selection. The host city is then chosen by vote of the IOC session, a general meeting of IOC members.[7]\n",
      "\n",
      "For individual summer and winter lists, see List of modern Summer Olympic Games, List of Winter Olympic Games and List of Youth Olympic Games.\n"
     ]
    }
   ],
   "source": [
    "olympicstext = docx2txt.process(\"olympics_text.docx\")\n",
    "print(olympicstext)"
   ]
  },
  {
   "cell_type": "code",
   "execution_count": 119,
   "metadata": {
    "scrolled": true
   },
   "outputs": [
    {
     "name": "stdout",
     "output_type": "stream",
     "text": [
      "Wikipedia\n",
      "Tokyo\n",
      "Tokyo\n",
      "Helsinki\n",
      "Athens\n",
      "Tokyo\n",
      "Singapore\n",
      "Beijing\n",
      "Paris\n",
      "Milan\n",
      "Cortina\n",
      "Los Angeles\n",
      "Beijing\n",
      "Paris\n",
      "London\n",
      "Los Angeles\n",
      "Tokyo\n",
      "Pyeongchang\n",
      "Beijing\n",
      "London\n",
      "Paris\n",
      "Los Angeles\n",
      "France\n",
      "Japan\n",
      "United Kingdom\n",
      "Austria\n",
      "Australia\n",
      "Canada\n",
      "Europe\n",
      "Asia\n",
      "Singapore\n",
      "Southeast Asia's\n",
      "South America's\n",
      "Central Asia\n",
      "Central America\n"
     ]
    }
   ],
   "source": [
    "nlp = spacy.load('en')\n",
    "locations2 = list()\n",
    "for ent in nlp(olympicstext).ents:\n",
    "    if ent.label_ in ['GPE', 'LOC']:\n",
    "        locations2.append(ent)\n",
    "        print(ent)"
   ]
  },
  {
   "cell_type": "code",
   "execution_count": 124,
   "metadata": {},
   "outputs": [],
   "source": [
    "newlist2 = list()\n",
    "for loc in locations2:\n",
    "    mapped_term = map_terms(loc.text)\n",
    "    newlist2.append(mapped_term)"
   ]
  },
  {
   "cell_type": "code",
   "execution_count": 125,
   "metadata": {},
   "outputs": [],
   "source": [
    "c = Counter()\n",
    "for loc in newlist2:\n",
    "    c.update({loc: 1}) "
   ]
  },
  {
   "cell_type": "code",
   "execution_count": 126,
   "metadata": {},
   "outputs": [
    {
     "data": {
      "text/plain": [
       "Counter({'Wikipedia': 1,\n",
       "         'Tokyo': 4,\n",
       "         'Helsinki': 1,\n",
       "         'Athens': 1,\n",
       "         'Singapore': 2,\n",
       "         'Beijing': 3,\n",
       "         'Paris': 3,\n",
       "         'Milan': 1,\n",
       "         'Cortina': 1,\n",
       "         'Los Angeles': 3,\n",
       "         'London': 2,\n",
       "         'Pyeongchang': 1,\n",
       "         'France': 1,\n",
       "         'Japan': 1,\n",
       "         'United Kingdom': 1,\n",
       "         'Austria': 1,\n",
       "         'Australia': 1,\n",
       "         'Canada': 1,\n",
       "         'Europe': 1,\n",
       "         'Asia': 1,\n",
       "         'Southeast Asia': 1,\n",
       "         'South America': 1,\n",
       "         'Central Asia': 1,\n",
       "         'Central America': 1})"
      ]
     },
     "execution_count": 126,
     "metadata": {},
     "output_type": "execute_result"
    }
   ],
   "source": [
    "c"
   ]
  },
  {
   "cell_type": "code",
   "execution_count": 127,
   "metadata": {},
   "outputs": [
    {
     "data": {
      "text/html": [
       "<div>\n",
       "<style scoped>\n",
       "    .dataframe tbody tr th:only-of-type {\n",
       "        vertical-align: middle;\n",
       "    }\n",
       "\n",
       "    .dataframe tbody tr th {\n",
       "        vertical-align: top;\n",
       "    }\n",
       "\n",
       "    .dataframe thead th {\n",
       "        text-align: right;\n",
       "    }\n",
       "</style>\n",
       "<table border=\"1\" class=\"dataframe\">\n",
       "  <thead>\n",
       "    <tr style=\"text-align: right;\">\n",
       "      <th></th>\n",
       "      <th>city</th>\n",
       "      <th>mentions</th>\n",
       "      <th>sourcedoc</th>\n",
       "    </tr>\n",
       "  </thead>\n",
       "  <tbody>\n",
       "    <tr>\n",
       "      <th>0</th>\n",
       "      <td>Wikipedia</td>\n",
       "      <td>1</td>\n",
       "      <td>olympics</td>\n",
       "    </tr>\n",
       "    <tr>\n",
       "      <th>1</th>\n",
       "      <td>Tokyo</td>\n",
       "      <td>4</td>\n",
       "      <td>olympics</td>\n",
       "    </tr>\n",
       "    <tr>\n",
       "      <th>2</th>\n",
       "      <td>Helsinki</td>\n",
       "      <td>1</td>\n",
       "      <td>olympics</td>\n",
       "    </tr>\n",
       "    <tr>\n",
       "      <th>3</th>\n",
       "      <td>Athens</td>\n",
       "      <td>1</td>\n",
       "      <td>olympics</td>\n",
       "    </tr>\n",
       "    <tr>\n",
       "      <th>4</th>\n",
       "      <td>Singapore</td>\n",
       "      <td>2</td>\n",
       "      <td>olympics</td>\n",
       "    </tr>\n",
       "    <tr>\n",
       "      <th>5</th>\n",
       "      <td>Beijing</td>\n",
       "      <td>3</td>\n",
       "      <td>olympics</td>\n",
       "    </tr>\n",
       "    <tr>\n",
       "      <th>6</th>\n",
       "      <td>Paris</td>\n",
       "      <td>3</td>\n",
       "      <td>olympics</td>\n",
       "    </tr>\n",
       "    <tr>\n",
       "      <th>7</th>\n",
       "      <td>Milan</td>\n",
       "      <td>1</td>\n",
       "      <td>olympics</td>\n",
       "    </tr>\n",
       "    <tr>\n",
       "      <th>8</th>\n",
       "      <td>Cortina</td>\n",
       "      <td>1</td>\n",
       "      <td>olympics</td>\n",
       "    </tr>\n",
       "    <tr>\n",
       "      <th>9</th>\n",
       "      <td>Los Angeles</td>\n",
       "      <td>3</td>\n",
       "      <td>olympics</td>\n",
       "    </tr>\n",
       "    <tr>\n",
       "      <th>10</th>\n",
       "      <td>London</td>\n",
       "      <td>2</td>\n",
       "      <td>olympics</td>\n",
       "    </tr>\n",
       "    <tr>\n",
       "      <th>11</th>\n",
       "      <td>Pyeongchang</td>\n",
       "      <td>1</td>\n",
       "      <td>olympics</td>\n",
       "    </tr>\n",
       "    <tr>\n",
       "      <th>12</th>\n",
       "      <td>France</td>\n",
       "      <td>1</td>\n",
       "      <td>olympics</td>\n",
       "    </tr>\n",
       "    <tr>\n",
       "      <th>13</th>\n",
       "      <td>Japan</td>\n",
       "      <td>1</td>\n",
       "      <td>olympics</td>\n",
       "    </tr>\n",
       "    <tr>\n",
       "      <th>14</th>\n",
       "      <td>United Kingdom</td>\n",
       "      <td>1</td>\n",
       "      <td>olympics</td>\n",
       "    </tr>\n",
       "    <tr>\n",
       "      <th>15</th>\n",
       "      <td>Austria</td>\n",
       "      <td>1</td>\n",
       "      <td>olympics</td>\n",
       "    </tr>\n",
       "    <tr>\n",
       "      <th>16</th>\n",
       "      <td>Australia</td>\n",
       "      <td>1</td>\n",
       "      <td>olympics</td>\n",
       "    </tr>\n",
       "    <tr>\n",
       "      <th>17</th>\n",
       "      <td>Canada</td>\n",
       "      <td>1</td>\n",
       "      <td>olympics</td>\n",
       "    </tr>\n",
       "    <tr>\n",
       "      <th>18</th>\n",
       "      <td>Europe</td>\n",
       "      <td>1</td>\n",
       "      <td>olympics</td>\n",
       "    </tr>\n",
       "    <tr>\n",
       "      <th>19</th>\n",
       "      <td>Asia</td>\n",
       "      <td>1</td>\n",
       "      <td>olympics</td>\n",
       "    </tr>\n",
       "    <tr>\n",
       "      <th>20</th>\n",
       "      <td>Southeast Asia</td>\n",
       "      <td>1</td>\n",
       "      <td>olympics</td>\n",
       "    </tr>\n",
       "    <tr>\n",
       "      <th>21</th>\n",
       "      <td>South America</td>\n",
       "      <td>1</td>\n",
       "      <td>olympics</td>\n",
       "    </tr>\n",
       "    <tr>\n",
       "      <th>22</th>\n",
       "      <td>Central Asia</td>\n",
       "      <td>1</td>\n",
       "      <td>olympics</td>\n",
       "    </tr>\n",
       "    <tr>\n",
       "      <th>23</th>\n",
       "      <td>Central America</td>\n",
       "      <td>1</td>\n",
       "      <td>olympics</td>\n",
       "    </tr>\n",
       "  </tbody>\n",
       "</table>\n",
       "</div>"
      ],
      "text/plain": [
       "               city  mentions sourcedoc\n",
       "0         Wikipedia         1  olympics\n",
       "1             Tokyo         4  olympics\n",
       "2          Helsinki         1  olympics\n",
       "3            Athens         1  olympics\n",
       "4         Singapore         2  olympics\n",
       "5           Beijing         3  olympics\n",
       "6             Paris         3  olympics\n",
       "7             Milan         1  olympics\n",
       "8           Cortina         1  olympics\n",
       "9       Los Angeles         3  olympics\n",
       "10           London         2  olympics\n",
       "11      Pyeongchang         1  olympics\n",
       "12           France         1  olympics\n",
       "13            Japan         1  olympics\n",
       "14   United Kingdom         1  olympics\n",
       "15          Austria         1  olympics\n",
       "16        Australia         1  olympics\n",
       "17           Canada         1  olympics\n",
       "18           Europe         1  olympics\n",
       "19             Asia         1  olympics\n",
       "20   Southeast Asia         1  olympics\n",
       "21    South America         1  olympics\n",
       "22     Central Asia         1  olympics\n",
       "23  Central America         1  olympics"
      ]
     },
     "execution_count": 127,
     "metadata": {},
     "output_type": "execute_result"
    }
   ],
   "source": [
    "olympics = pd.DataFrame(c.items())\n",
    "olympics.columns = ['city', 'mentions']\n",
    "olympics['sourcedoc'] = 'olympics'  # add doc source \n",
    "olympics"
   ]
  },
  {
   "cell_type": "markdown",
   "metadata": {},
   "source": [
    "### ...add additional docs as desired before merging"
   ]
  },
  {
   "cell_type": "markdown",
   "metadata": {},
   "source": [
    "## Merge dataframes "
   ]
  },
  {
   "cell_type": "code",
   "execution_count": 181,
   "metadata": {},
   "outputs": [
    {
     "data": {
      "text/html": [
       "<div>\n",
       "<style scoped>\n",
       "    .dataframe tbody tr th:only-of-type {\n",
       "        vertical-align: middle;\n",
       "    }\n",
       "\n",
       "    .dataframe tbody tr th {\n",
       "        vertical-align: top;\n",
       "    }\n",
       "\n",
       "    .dataframe thead th {\n",
       "        text-align: right;\n",
       "    }\n",
       "</style>\n",
       "<table border=\"1\" class=\"dataframe\">\n",
       "  <thead>\n",
       "    <tr style=\"text-align: right;\">\n",
       "      <th></th>\n",
       "      <th>city</th>\n",
       "      <th>mentions</th>\n",
       "      <th>sourcedoc</th>\n",
       "    </tr>\n",
       "  </thead>\n",
       "  <tbody>\n",
       "    <tr>\n",
       "      <th>0</th>\n",
       "      <td>Paris</td>\n",
       "      <td>5</td>\n",
       "      <td>airbnb</td>\n",
       "    </tr>\n",
       "    <tr>\n",
       "      <th>1</th>\n",
       "      <td>Barcelona</td>\n",
       "      <td>3</td>\n",
       "      <td>airbnb</td>\n",
       "    </tr>\n",
       "    <tr>\n",
       "      <th>2</th>\n",
       "      <td>Santa Monica</td>\n",
       "      <td>6</td>\n",
       "      <td>airbnb</td>\n",
       "    </tr>\n",
       "    <tr>\n",
       "      <th>3</th>\n",
       "      <td>California</td>\n",
       "      <td>2</td>\n",
       "      <td>airbnb</td>\n",
       "    </tr>\n",
       "    <tr>\n",
       "      <th>4</th>\n",
       "      <td>Airbnb</td>\n",
       "      <td>13</td>\n",
       "      <td>airbnb</td>\n",
       "    </tr>\n",
       "  </tbody>\n",
       "</table>\n",
       "</div>"
      ],
      "text/plain": [
       "           city  mentions sourcedoc\n",
       "0         Paris         5    airbnb\n",
       "1     Barcelona         3    airbnb\n",
       "2  Santa Monica         6    airbnb\n",
       "3    California         2    airbnb\n",
       "4        Airbnb        13    airbnb"
      ]
     },
     "execution_count": 181,
     "metadata": {},
     "output_type": "execute_result"
    }
   ],
   "source": [
    "merged_df = pd.concat([airbnb, olympics])\n",
    "merged_df.head()"
   ]
  },
  {
   "cell_type": "code",
   "execution_count": 132,
   "metadata": {},
   "outputs": [
    {
     "data": {
      "text/plain": [
       "39"
      ]
     },
     "execution_count": 132,
     "metadata": {},
     "output_type": "execute_result"
    }
   ],
   "source": [
    "len(merged_df)"
   ]
  },
  {
   "cell_type": "markdown",
   "metadata": {},
   "source": [
    "## Extract coordinates for locations mentioned using Nominatim"
   ]
  },
  {
   "cell_type": "markdown",
   "metadata": {},
   "source": [
    "This OSM tool (https://wiki.openstreetmap.org/wiki/Nominatim) allows users to geocode location names (text). Users need to add their email address as the 'user_agent' parameter, as it tries to limit hits by a single user. You can use multiple email addresses from the same IP. "
   ]
  },
  {
   "cell_type": "code",
   "execution_count": 136,
   "metadata": {},
   "outputs": [],
   "source": [
    "geolocator = Nominatim(user_agent=\"myemail@email.com\", timeout=6)"
   ]
  },
  {
   "cell_type": "code",
   "execution_count": 140,
   "metadata": {
    "scrolled": true
   },
   "outputs": [
    {
     "name": "stdout",
     "output_type": "stream",
     "text": [
      "48.8566969 2.3514616\n",
      "41.3828939 2.1774322\n",
      "34.0194704 -118.4912273\n",
      "36.7014631 -118.755997\n",
      "1.2758649 103.835589\n",
      "52.3727598 4.8936041\n",
      "52.5170365 13.3888599\n",
      "51.5073219 -0.1276474\n",
      "37.7790262 -122.419906\n",
      "40.7127281 -74.0060152\n",
      "39.3260685 -4.8379791\n",
      "46.603354 1.8883335\n",
      "39.7837304 -100.445882\n",
      "40.7127281 -74.0060152\n",
      "-1.0197136 -71.9383333\n",
      "35.6828387 139.7594549\n",
      "60.1674881 24.9427473\n",
      "37.9839412 23.7283052\n",
      "1.357107 103.8194992\n",
      "39.906217 116.3912757\n",
      "48.8566969 2.3514616\n",
      "45.4668 9.1905\n",
      "43.7070273 11.6858483\n",
      "34.0536909 -118.242766\n",
      "51.5073219 -0.1276474\n",
      "37.5622911 128.4295278\n",
      "46.603354 1.8883335\n",
      "36.5748441 139.2394179\n",
      "54.7023545 -3.2765753\n",
      "47.2 13.2\n",
      "-24.7761086 134.755\n",
      "61.0666922 -107.991707\n",
      "51.0 10.0\n",
      "51.2086975 89.2343748\n",
      "-36.8624515 174.7207047\n",
      "-21.0002179 -61.0006565\n",
      "39.4009215 72.8676621\n",
      "-30.29284845 153.12561585745573\n"
     ]
    },
    {
     "data": {
      "text/plain": [
       "{'Paris': Location(Paris, Île-de-France, France métropolitaine, France, (48.8566969, 2.3514616, 0.0)),\n",
       " 'Barcelona': Location(Barcelona, Barcelonès, Barcelona, Catalunya, 08001, España, (41.3828939, 2.1774322, 0.0)),\n",
       " 'Santa Monica': Location(Santa Monica, California, United States, (34.0194704, -118.4912273, 0.0)),\n",
       " 'California': Location(California, United States, (36.7014631, -118.755997, 0.0)),\n",
       " 'Airbnb': Location(Airbnb, Blair Road, Bukit Merah, Singapore, Central, 169377, Singapore, (1.2758649, 103.835589, 0.0)),\n",
       " 'Amsterdam': Location(Amsterdam, Noord-Holland, Nederland, (52.3727598, 4.8936041, 0.0)),\n",
       " 'Berlin': Location(Berlin, 10117, Deutschland, (52.5170365, 13.3888599, 0.0)),\n",
       " 'London': Location(London, Greater London, England, United Kingdom, (51.5073219, -0.1276474, 0.0)),\n",
       " 'San Francisco': Location(San Francisco, San Francisco City and County, San Francisco, California, United States, (37.7790262, -122.419906, 0.0)),\n",
       " 'New York': Location(New York, United States, (40.7127281, -74.0060152, 0.0)),\n",
       " 'Spain': Location(España, (39.3260685, -4.8379791, 0.0)),\n",
       " 'France': Location(France, (46.603354, 1.8883335, 0.0)),\n",
       " 'United States Of America': Location(United States, (39.7837304, -100.445882, 0.0)),\n",
       " 'New York City': Location(New York, United States, (40.7127281, -74.0060152, 0.0)),\n",
       " 'Wikipedia': Location(Amazonas, Amazonia, Colombia, (-1.0197136, -71.9383333, 0.0)),\n",
       " 'Tokyo': Location(東京都, 日本, (35.6828387, 139.7594549, 0.0)),\n",
       " 'Helsinki': Location(Helsinki, Helsingin seutukunta, Uusimaa, Etelä-Suomen aluehallintovirasto, Manner-Suomi, Suomi / Finland, (60.1674881, 24.9427473, 0.0)),\n",
       " 'Athens': Location(Αθήνα, Δήμος Αθηναίων, Περιφερειακή Ενότητα Κεντρικού Τομέα Αθηνών, Περιφέρεια Αττικής, Αποκεντρωμένη Διοίκηση Αττικής, 10667, Ελλάς, (37.9839412, 23.7283052, 0.0)),\n",
       " 'Singapore': Location(Singapore, (1.357107, 103.8194992, 0.0)),\n",
       " 'Beijing': Location(北京市, 东城区, 北京市, 100010, 中国, (39.906217, 116.3912757, 0.0)),\n",
       " 'Milan': Location(Milano, Lombardia, Italia, (45.4668, 9.1905, 0.0)),\n",
       " 'Cortina': Location(Cortina, Castel San Niccolò, Arezzo, Toscana, 52018, Italia, (43.7070273, 11.6858483, 0.0)),\n",
       " 'Los Angeles': Location(Los Angeles, California, United States, (34.0536909, -118.242766, 0.0)),\n",
       " 'Pyeongchang': Location(평창, 1715, 평창대로, 장평리, 평창군, 강원도, 25317, 대한민국, (37.5622911, 128.4295278, 0.0)),\n",
       " 'Japan': Location(日本, (36.5748441, 139.2394179, 0.0)),\n",
       " 'United Kingdom': Location(United Kingdom, (54.7023545, -3.2765753, 0.0)),\n",
       " 'Austria': Location(Österreich, (47.2, 13.2, 0.0)),\n",
       " 'Australia': Location(Australia, (-24.7761086, 134.755, 0.0)),\n",
       " 'Canada': Location(Canada, (61.0666922, -107.991707, 0.0)),\n",
       " 'Europe': Location(أوروبا, (51.0, 10.0, 0.0)),\n",
       " 'Asia': Location(Asia, (51.2086975, 89.2343748, 0.0)),\n",
       " 'Southeast Asia': Location(South East Asia, Old Mill Road, West Lynn, Westmere, Auckland, Waitematā, Auckland, 1022, New Zealand / Aotearoa, (-36.8624515, 174.7207047, 0.0)),\n",
       " 'South America': Location(South America, (-21.0002179, -61.0006565, 0.0)),\n",
       " 'Central Asia': Location(Central Asia, классический маршрут, Чон-Алайский район, Ошская область, Кыргызстан, (39.4009215, 72.8676621, 0.0)),\n",
       " 'Central America': Location(Central America, Creek Walk, Coffs Harbour, Coffs Harbour City Council, New South Wales, 2450, Australia, (-30.29284845, 153.12561585745573, 0.0))}"
      ]
     },
     "execution_count": 140,
     "metadata": {},
     "output_type": "execute_result"
    }
   ],
   "source": [
    "lat_lon = dict()\n",
    "for loc in merged_df['city']: \n",
    "    try:\n",
    "        location = geolocator.geocode(loc)\n",
    "        if location:\n",
    "            print(location.latitude, location.longitude)\n",
    "            lat_lon[loc] = (location)\n",
    "    except GeocoderTimedOut as e:\n",
    "        print(\"Error: geocode failed on input %s with message %s\".format(loc, e))\n",
    "lat_lon"
   ]
  },
  {
   "cell_type": "code",
   "execution_count": 176,
   "metadata": {},
   "outputs": [],
   "source": [
    "coordinates = dict()\n",
    "for loc in lat_lon:\n",
    "    coordinates[loc] = lat_lon[loc][1]"
   ]
  },
  {
   "cell_type": "code",
   "execution_count": 187,
   "metadata": {},
   "outputs": [],
   "source": [
    "# add coordinates to merged df\n",
    "merged_df['coordinates'] = merged_df['city'].map(coordinates)\n",
    "\n",
    "# drop lines for which no coordinates were found\n",
    "merged_df = merged_df[merged_df['coordinates'].notna()]\n",
    "\n",
    "# parse out lat and lon\n",
    "merged_df['LAT'] = merged_df['coordinates'].apply(lambda x: x[0])\n",
    "merged_df['LON'] = merged_df['coordinates'].apply(lambda x: x[1])"
   ]
  },
  {
   "cell_type": "code",
   "execution_count": 188,
   "metadata": {},
   "outputs": [
    {
     "data": {
      "text/html": [
       "<div>\n",
       "<style scoped>\n",
       "    .dataframe tbody tr th:only-of-type {\n",
       "        vertical-align: middle;\n",
       "    }\n",
       "\n",
       "    .dataframe tbody tr th {\n",
       "        vertical-align: top;\n",
       "    }\n",
       "\n",
       "    .dataframe thead th {\n",
       "        text-align: right;\n",
       "    }\n",
       "</style>\n",
       "<table border=\"1\" class=\"dataframe\">\n",
       "  <thead>\n",
       "    <tr style=\"text-align: right;\">\n",
       "      <th></th>\n",
       "      <th>city</th>\n",
       "      <th>mentions</th>\n",
       "      <th>sourcedoc</th>\n",
       "      <th>coordinates</th>\n",
       "      <th>LAT</th>\n",
       "      <th>LON</th>\n",
       "    </tr>\n",
       "  </thead>\n",
       "  <tbody>\n",
       "    <tr>\n",
       "      <th>0</th>\n",
       "      <td>Paris</td>\n",
       "      <td>5</td>\n",
       "      <td>airbnb</td>\n",
       "      <td>(48.8566969, 2.3514616)</td>\n",
       "      <td>48.856697</td>\n",
       "      <td>2.351462</td>\n",
       "    </tr>\n",
       "    <tr>\n",
       "      <th>1</th>\n",
       "      <td>Barcelona</td>\n",
       "      <td>3</td>\n",
       "      <td>airbnb</td>\n",
       "      <td>(41.3828939, 2.1774322)</td>\n",
       "      <td>41.382894</td>\n",
       "      <td>2.177432</td>\n",
       "    </tr>\n",
       "    <tr>\n",
       "      <th>2</th>\n",
       "      <td>Santa Monica</td>\n",
       "      <td>6</td>\n",
       "      <td>airbnb</td>\n",
       "      <td>(34.0194704, -118.4912273)</td>\n",
       "      <td>34.019470</td>\n",
       "      <td>-118.491227</td>\n",
       "    </tr>\n",
       "    <tr>\n",
       "      <th>3</th>\n",
       "      <td>California</td>\n",
       "      <td>2</td>\n",
       "      <td>airbnb</td>\n",
       "      <td>(36.7014631, -118.755997)</td>\n",
       "      <td>36.701463</td>\n",
       "      <td>-118.755997</td>\n",
       "    </tr>\n",
       "    <tr>\n",
       "      <th>4</th>\n",
       "      <td>Airbnb</td>\n",
       "      <td>13</td>\n",
       "      <td>airbnb</td>\n",
       "      <td>(1.2758649, 103.835589)</td>\n",
       "      <td>1.275865</td>\n",
       "      <td>103.835589</td>\n",
       "    </tr>\n",
       "  </tbody>\n",
       "</table>\n",
       "</div>"
      ],
      "text/plain": [
       "           city  mentions sourcedoc                 coordinates        LAT  \\\n",
       "0         Paris         5    airbnb     (48.8566969, 2.3514616)  48.856697   \n",
       "1     Barcelona         3    airbnb     (41.3828939, 2.1774322)  41.382894   \n",
       "2  Santa Monica         6    airbnb  (34.0194704, -118.4912273)  34.019470   \n",
       "3    California         2    airbnb   (36.7014631, -118.755997)  36.701463   \n",
       "4        Airbnb        13    airbnb     (1.2758649, 103.835589)   1.275865   \n",
       "\n",
       "          LON  \n",
       "0    2.351462  \n",
       "1    2.177432  \n",
       "2 -118.491227  \n",
       "3 -118.755997  \n",
       "4  103.835589  "
      ]
     },
     "execution_count": 188,
     "metadata": {},
     "output_type": "execute_result"
    }
   ],
   "source": [
    "merged_df.head()"
   ]
  },
  {
   "cell_type": "markdown",
   "metadata": {},
   "source": [
    "## Plot locations using plotly.express"
   ]
  },
  {
   "cell_type": "code",
   "execution_count": 189,
   "metadata": {},
   "outputs": [],
   "source": [
    "mapbox_access_token = \"***********************************************\"\n",
    "px.set_mapbox_access_token(mapbox_access_token)"
   ]
  },
  {
   "cell_type": "code",
   "execution_count": 200,
   "metadata": {},
   "outputs": [
    {
     "data": {
      "application/vnd.plotly.v1+json": {
       "config": {
        "plotlyServerURL": "https://plot.ly"
       },
       "data": [
        {
         "hovertemplate": "sourcedoc=airbnb<br>mentions=%{marker.size}<br>city=%{text}<br>LAT=%{lat}<br>LON=%{lon}<extra></extra>",
         "lat": [
          48.8566969,
          41.3828939,
          34.0194704,
          36.7014631,
          1.2758649,
          52.3727598,
          52.5170365,
          51.5073219,
          37.7790262,
          40.7127281,
          39.3260685,
          46.603354,
          39.7837304,
          40.7127281
         ],
         "legendgroup": "airbnb",
         "lon": [
          2.3514616,
          2.1774322,
          -118.4912273,
          -118.755997,
          103.835589,
          4.8936041,
          13.3888599,
          -0.1276474,
          -122.419906,
          -74.0060152,
          -4.8379791,
          1.8883335,
          -100.445882,
          -74.0060152
         ],
         "marker": {
          "color": "#636efa",
          "size": [
           5,
           3,
           6,
           2,
           13,
           4,
           3,
           5,
           5,
           4,
           1,
           1,
           2,
           1
          ],
          "sizemode": "area",
          "sizeref": 0.0325
         },
         "mode": "markers+text",
         "name": "airbnb",
         "showlegend": true,
         "subplot": "mapbox",
         "text": [
          "Paris",
          "Barcelona",
          "Santa Monica",
          "California",
          "Airbnb",
          "Amsterdam",
          "Berlin",
          "London",
          "San Francisco",
          "New York",
          "Spain",
          "France",
          "United States Of America",
          "New York City"
         ],
         "type": "scattermapbox"
        },
        {
         "hovertemplate": "sourcedoc=olympics<br>mentions=%{marker.size}<br>city=%{text}<br>LAT=%{lat}<br>LON=%{lon}<extra></extra>",
         "lat": [
          -1.0197136,
          35.6828387,
          60.1674881,
          37.9839412,
          1.357107,
          39.906217,
          48.8566969,
          45.4668,
          43.7070273,
          34.0536909,
          51.5073219,
          37.5622911,
          46.603354,
          36.5748441,
          54.7023545,
          47.2,
          -24.7761086,
          61.0666922,
          51,
          51.2086975,
          -36.8624515,
          -21.0002179,
          39.4009215,
          -30.29284845
         ],
         "legendgroup": "olympics",
         "lon": [
          -71.9383333,
          139.7594549,
          24.9427473,
          23.7283052,
          103.8194992,
          116.3912757,
          2.3514616,
          9.1905,
          11.6858483,
          -118.242766,
          -0.1276474,
          128.4295278,
          1.8883335,
          139.2394179,
          -3.2765753,
          13.2,
          134.755,
          -107.991707,
          10,
          89.2343748,
          174.7207047,
          -61.0006565,
          72.8676621,
          153.12561585745573
         ],
         "marker": {
          "color": "#EF553B",
          "size": [
           1,
           4,
           1,
           1,
           2,
           3,
           3,
           1,
           1,
           3,
           2,
           1,
           1,
           1,
           1,
           1,
           1,
           1,
           1,
           1,
           1,
           1,
           1,
           1
          ],
          "sizemode": "area",
          "sizeref": 0.0325
         },
         "mode": "markers+text",
         "name": "olympics",
         "showlegend": true,
         "subplot": "mapbox",
         "text": [
          "Wikipedia",
          "Tokyo",
          "Helsinki",
          "Athens",
          "Singapore",
          "Beijing",
          "Paris",
          "Milan",
          "Cortina",
          "Los Angeles",
          "London",
          "Pyeongchang",
          "France",
          "Japan",
          "United Kingdom",
          "Austria",
          "Australia",
          "Canada",
          "Europe",
          "Asia",
          "Southeast Asia",
          "South America",
          "Central Asia",
          "Central America"
         ],
         "type": "scattermapbox"
        }
       ],
       "layout": {
        "legend": {
         "itemsizing": "constant",
         "title": {
          "text": "sourcedoc"
         },
         "tracegroupgap": 0
        },
        "mapbox": {
         "accesstoken": "pk.eyJ1IjoiZWxpYXM5NDAiLCJhIjoiY2thYnRqdWF4MDVvcDJwbGY1eWVncGJnZiJ9.yQ11Ql-IQ6t1ts_cQwmUoA",
         "center": {
          "lat": 33.516002277631586,
          "lon": 13.215701433090942
         },
         "domain": {
          "x": [
           0,
           1
          ],
          "y": [
           0,
           1
          ]
         },
         "zoom": 0.5
        },
        "margin": {
         "t": 60
        },
        "template": {
         "data": {
          "bar": [
           {
            "error_x": {
             "color": "#2a3f5f"
            },
            "error_y": {
             "color": "#2a3f5f"
            },
            "marker": {
             "line": {
              "color": "#E5ECF6",
              "width": 0.5
             }
            },
            "type": "bar"
           }
          ],
          "barpolar": [
           {
            "marker": {
             "line": {
              "color": "#E5ECF6",
              "width": 0.5
             }
            },
            "type": "barpolar"
           }
          ],
          "carpet": [
           {
            "aaxis": {
             "endlinecolor": "#2a3f5f",
             "gridcolor": "white",
             "linecolor": "white",
             "minorgridcolor": "white",
             "startlinecolor": "#2a3f5f"
            },
            "baxis": {
             "endlinecolor": "#2a3f5f",
             "gridcolor": "white",
             "linecolor": "white",
             "minorgridcolor": "white",
             "startlinecolor": "#2a3f5f"
            },
            "type": "carpet"
           }
          ],
          "choropleth": [
           {
            "colorbar": {
             "outlinewidth": 0,
             "ticks": ""
            },
            "type": "choropleth"
           }
          ],
          "contour": [
           {
            "colorbar": {
             "outlinewidth": 0,
             "ticks": ""
            },
            "colorscale": [
             [
              0,
              "#0d0887"
             ],
             [
              0.1111111111111111,
              "#46039f"
             ],
             [
              0.2222222222222222,
              "#7201a8"
             ],
             [
              0.3333333333333333,
              "#9c179e"
             ],
             [
              0.4444444444444444,
              "#bd3786"
             ],
             [
              0.5555555555555556,
              "#d8576b"
             ],
             [
              0.6666666666666666,
              "#ed7953"
             ],
             [
              0.7777777777777778,
              "#fb9f3a"
             ],
             [
              0.8888888888888888,
              "#fdca26"
             ],
             [
              1,
              "#f0f921"
             ]
            ],
            "type": "contour"
           }
          ],
          "contourcarpet": [
           {
            "colorbar": {
             "outlinewidth": 0,
             "ticks": ""
            },
            "type": "contourcarpet"
           }
          ],
          "heatmap": [
           {
            "colorbar": {
             "outlinewidth": 0,
             "ticks": ""
            },
            "colorscale": [
             [
              0,
              "#0d0887"
             ],
             [
              0.1111111111111111,
              "#46039f"
             ],
             [
              0.2222222222222222,
              "#7201a8"
             ],
             [
              0.3333333333333333,
              "#9c179e"
             ],
             [
              0.4444444444444444,
              "#bd3786"
             ],
             [
              0.5555555555555556,
              "#d8576b"
             ],
             [
              0.6666666666666666,
              "#ed7953"
             ],
             [
              0.7777777777777778,
              "#fb9f3a"
             ],
             [
              0.8888888888888888,
              "#fdca26"
             ],
             [
              1,
              "#f0f921"
             ]
            ],
            "type": "heatmap"
           }
          ],
          "heatmapgl": [
           {
            "colorbar": {
             "outlinewidth": 0,
             "ticks": ""
            },
            "colorscale": [
             [
              0,
              "#0d0887"
             ],
             [
              0.1111111111111111,
              "#46039f"
             ],
             [
              0.2222222222222222,
              "#7201a8"
             ],
             [
              0.3333333333333333,
              "#9c179e"
             ],
             [
              0.4444444444444444,
              "#bd3786"
             ],
             [
              0.5555555555555556,
              "#d8576b"
             ],
             [
              0.6666666666666666,
              "#ed7953"
             ],
             [
              0.7777777777777778,
              "#fb9f3a"
             ],
             [
              0.8888888888888888,
              "#fdca26"
             ],
             [
              1,
              "#f0f921"
             ]
            ],
            "type": "heatmapgl"
           }
          ],
          "histogram": [
           {
            "marker": {
             "colorbar": {
              "outlinewidth": 0,
              "ticks": ""
             }
            },
            "type": "histogram"
           }
          ],
          "histogram2d": [
           {
            "colorbar": {
             "outlinewidth": 0,
             "ticks": ""
            },
            "colorscale": [
             [
              0,
              "#0d0887"
             ],
             [
              0.1111111111111111,
              "#46039f"
             ],
             [
              0.2222222222222222,
              "#7201a8"
             ],
             [
              0.3333333333333333,
              "#9c179e"
             ],
             [
              0.4444444444444444,
              "#bd3786"
             ],
             [
              0.5555555555555556,
              "#d8576b"
             ],
             [
              0.6666666666666666,
              "#ed7953"
             ],
             [
              0.7777777777777778,
              "#fb9f3a"
             ],
             [
              0.8888888888888888,
              "#fdca26"
             ],
             [
              1,
              "#f0f921"
             ]
            ],
            "type": "histogram2d"
           }
          ],
          "histogram2dcontour": [
           {
            "colorbar": {
             "outlinewidth": 0,
             "ticks": ""
            },
            "colorscale": [
             [
              0,
              "#0d0887"
             ],
             [
              0.1111111111111111,
              "#46039f"
             ],
             [
              0.2222222222222222,
              "#7201a8"
             ],
             [
              0.3333333333333333,
              "#9c179e"
             ],
             [
              0.4444444444444444,
              "#bd3786"
             ],
             [
              0.5555555555555556,
              "#d8576b"
             ],
             [
              0.6666666666666666,
              "#ed7953"
             ],
             [
              0.7777777777777778,
              "#fb9f3a"
             ],
             [
              0.8888888888888888,
              "#fdca26"
             ],
             [
              1,
              "#f0f921"
             ]
            ],
            "type": "histogram2dcontour"
           }
          ],
          "mesh3d": [
           {
            "colorbar": {
             "outlinewidth": 0,
             "ticks": ""
            },
            "type": "mesh3d"
           }
          ],
          "parcoords": [
           {
            "line": {
             "colorbar": {
              "outlinewidth": 0,
              "ticks": ""
             }
            },
            "type": "parcoords"
           }
          ],
          "pie": [
           {
            "automargin": true,
            "type": "pie"
           }
          ],
          "scatter": [
           {
            "marker": {
             "colorbar": {
              "outlinewidth": 0,
              "ticks": ""
             }
            },
            "type": "scatter"
           }
          ],
          "scatter3d": [
           {
            "line": {
             "colorbar": {
              "outlinewidth": 0,
              "ticks": ""
             }
            },
            "marker": {
             "colorbar": {
              "outlinewidth": 0,
              "ticks": ""
             }
            },
            "type": "scatter3d"
           }
          ],
          "scattercarpet": [
           {
            "marker": {
             "colorbar": {
              "outlinewidth": 0,
              "ticks": ""
             }
            },
            "type": "scattercarpet"
           }
          ],
          "scattergeo": [
           {
            "marker": {
             "colorbar": {
              "outlinewidth": 0,
              "ticks": ""
             }
            },
            "type": "scattergeo"
           }
          ],
          "scattergl": [
           {
            "marker": {
             "colorbar": {
              "outlinewidth": 0,
              "ticks": ""
             }
            },
            "type": "scattergl"
           }
          ],
          "scattermapbox": [
           {
            "marker": {
             "colorbar": {
              "outlinewidth": 0,
              "ticks": ""
             }
            },
            "type": "scattermapbox"
           }
          ],
          "scatterpolar": [
           {
            "marker": {
             "colorbar": {
              "outlinewidth": 0,
              "ticks": ""
             }
            },
            "type": "scatterpolar"
           }
          ],
          "scatterpolargl": [
           {
            "marker": {
             "colorbar": {
              "outlinewidth": 0,
              "ticks": ""
             }
            },
            "type": "scatterpolargl"
           }
          ],
          "scatterternary": [
           {
            "marker": {
             "colorbar": {
              "outlinewidth": 0,
              "ticks": ""
             }
            },
            "type": "scatterternary"
           }
          ],
          "surface": [
           {
            "colorbar": {
             "outlinewidth": 0,
             "ticks": ""
            },
            "colorscale": [
             [
              0,
              "#0d0887"
             ],
             [
              0.1111111111111111,
              "#46039f"
             ],
             [
              0.2222222222222222,
              "#7201a8"
             ],
             [
              0.3333333333333333,
              "#9c179e"
             ],
             [
              0.4444444444444444,
              "#bd3786"
             ],
             [
              0.5555555555555556,
              "#d8576b"
             ],
             [
              0.6666666666666666,
              "#ed7953"
             ],
             [
              0.7777777777777778,
              "#fb9f3a"
             ],
             [
              0.8888888888888888,
              "#fdca26"
             ],
             [
              1,
              "#f0f921"
             ]
            ],
            "type": "surface"
           }
          ],
          "table": [
           {
            "cells": {
             "fill": {
              "color": "#EBF0F8"
             },
             "line": {
              "color": "white"
             }
            },
            "header": {
             "fill": {
              "color": "#C8D4E3"
             },
             "line": {
              "color": "white"
             }
            },
            "type": "table"
           }
          ]
         },
         "layout": {
          "annotationdefaults": {
           "arrowcolor": "#2a3f5f",
           "arrowhead": 0,
           "arrowwidth": 1
          },
          "autotypenumbers": "strict",
          "coloraxis": {
           "colorbar": {
            "outlinewidth": 0,
            "ticks": ""
           }
          },
          "colorscale": {
           "diverging": [
            [
             0,
             "#8e0152"
            ],
            [
             0.1,
             "#c51b7d"
            ],
            [
             0.2,
             "#de77ae"
            ],
            [
             0.3,
             "#f1b6da"
            ],
            [
             0.4,
             "#fde0ef"
            ],
            [
             0.5,
             "#f7f7f7"
            ],
            [
             0.6,
             "#e6f5d0"
            ],
            [
             0.7,
             "#b8e186"
            ],
            [
             0.8,
             "#7fbc41"
            ],
            [
             0.9,
             "#4d9221"
            ],
            [
             1,
             "#276419"
            ]
           ],
           "sequential": [
            [
             0,
             "#0d0887"
            ],
            [
             0.1111111111111111,
             "#46039f"
            ],
            [
             0.2222222222222222,
             "#7201a8"
            ],
            [
             0.3333333333333333,
             "#9c179e"
            ],
            [
             0.4444444444444444,
             "#bd3786"
            ],
            [
             0.5555555555555556,
             "#d8576b"
            ],
            [
             0.6666666666666666,
             "#ed7953"
            ],
            [
             0.7777777777777778,
             "#fb9f3a"
            ],
            [
             0.8888888888888888,
             "#fdca26"
            ],
            [
             1,
             "#f0f921"
            ]
           ],
           "sequentialminus": [
            [
             0,
             "#0d0887"
            ],
            [
             0.1111111111111111,
             "#46039f"
            ],
            [
             0.2222222222222222,
             "#7201a8"
            ],
            [
             0.3333333333333333,
             "#9c179e"
            ],
            [
             0.4444444444444444,
             "#bd3786"
            ],
            [
             0.5555555555555556,
             "#d8576b"
            ],
            [
             0.6666666666666666,
             "#ed7953"
            ],
            [
             0.7777777777777778,
             "#fb9f3a"
            ],
            [
             0.8888888888888888,
             "#fdca26"
            ],
            [
             1,
             "#f0f921"
            ]
           ]
          },
          "colorway": [
           "#636efa",
           "#EF553B",
           "#00cc96",
           "#ab63fa",
           "#FFA15A",
           "#19d3f3",
           "#FF6692",
           "#B6E880",
           "#FF97FF",
           "#FECB52"
          ],
          "font": {
           "color": "#2a3f5f"
          },
          "geo": {
           "bgcolor": "white",
           "lakecolor": "white",
           "landcolor": "#E5ECF6",
           "showlakes": true,
           "showland": true,
           "subunitcolor": "white"
          },
          "hoverlabel": {
           "align": "left"
          },
          "hovermode": "closest",
          "mapbox": {
           "style": "light"
          },
          "paper_bgcolor": "white",
          "plot_bgcolor": "#E5ECF6",
          "polar": {
           "angularaxis": {
            "gridcolor": "white",
            "linecolor": "white",
            "ticks": ""
           },
           "bgcolor": "#E5ECF6",
           "radialaxis": {
            "gridcolor": "white",
            "linecolor": "white",
            "ticks": ""
           }
          },
          "scene": {
           "xaxis": {
            "backgroundcolor": "#E5ECF6",
            "gridcolor": "white",
            "gridwidth": 2,
            "linecolor": "white",
            "showbackground": true,
            "ticks": "",
            "zerolinecolor": "white"
           },
           "yaxis": {
            "backgroundcolor": "#E5ECF6",
            "gridcolor": "white",
            "gridwidth": 2,
            "linecolor": "white",
            "showbackground": true,
            "ticks": "",
            "zerolinecolor": "white"
           },
           "zaxis": {
            "backgroundcolor": "#E5ECF6",
            "gridcolor": "white",
            "gridwidth": 2,
            "linecolor": "white",
            "showbackground": true,
            "ticks": "",
            "zerolinecolor": "white"
           }
          },
          "shapedefaults": {
           "line": {
            "color": "#2a3f5f"
           }
          },
          "ternary": {
           "aaxis": {
            "gridcolor": "white",
            "linecolor": "white",
            "ticks": ""
           },
           "baxis": {
            "gridcolor": "white",
            "linecolor": "white",
            "ticks": ""
           },
           "bgcolor": "#E5ECF6",
           "caxis": {
            "gridcolor": "white",
            "linecolor": "white",
            "ticks": ""
           }
          },
          "title": {
           "x": 0.05
          },
          "xaxis": {
           "automargin": true,
           "gridcolor": "white",
           "linecolor": "white",
           "ticks": "",
           "title": {
            "standoff": 15
           },
           "zerolinecolor": "white",
           "zerolinewidth": 2
          },
          "yaxis": {
           "automargin": true,
           "gridcolor": "white",
           "linecolor": "white",
           "ticks": "",
           "title": {
            "standoff": 15
           },
           "zerolinecolor": "white",
           "zerolinewidth": 2
          }
         }
        },
        "title": {
         "text": "Locations extracted from text"
        }
       }
      },
      "text/html": [
       "<div>                            <div id=\"dd821a4a-6e65-42f8-9814-ad73bd30cef4\" class=\"plotly-graph-div\" style=\"height:525px; width:100%;\"></div>            <script type=\"text/javascript\">                require([\"plotly\"], function(Plotly) {                    window.PLOTLYENV=window.PLOTLYENV || {};                                    if (document.getElementById(\"dd821a4a-6e65-42f8-9814-ad73bd30cef4\")) {                    Plotly.newPlot(                        \"dd821a4a-6e65-42f8-9814-ad73bd30cef4\",                        [{\"hovertemplate\": \"sourcedoc=airbnb<br>mentions=%{marker.size}<br>city=%{text}<br>LAT=%{lat}<br>LON=%{lon}<extra></extra>\", \"lat\": [48.8566969, 41.3828939, 34.0194704, 36.7014631, 1.2758649, 52.3727598, 52.5170365, 51.5073219, 37.7790262, 40.7127281, 39.3260685, 46.603354, 39.7837304, 40.7127281], \"legendgroup\": \"airbnb\", \"lon\": [2.3514616, 2.1774322, -118.4912273, -118.755997, 103.835589, 4.8936041, 13.3888599, -0.1276474, -122.419906, -74.0060152, -4.8379791, 1.8883335, -100.445882, -74.0060152], \"marker\": {\"color\": \"#636efa\", \"size\": [5, 3, 6, 2, 13, 4, 3, 5, 5, 4, 1, 1, 2, 1], \"sizemode\": \"area\", \"sizeref\": 0.0325}, \"mode\": \"markers+text\", \"name\": \"airbnb\", \"showlegend\": true, \"subplot\": \"mapbox\", \"text\": [\"Paris\", \"Barcelona\", \"Santa Monica\", \"California\", \"Airbnb\", \"Amsterdam\", \"Berlin\", \"London\", \"San Francisco\", \"New York\", \"Spain\", \"France\", \"United States Of America\", \"New York City\"], \"type\": \"scattermapbox\"}, {\"hovertemplate\": \"sourcedoc=olympics<br>mentions=%{marker.size}<br>city=%{text}<br>LAT=%{lat}<br>LON=%{lon}<extra></extra>\", \"lat\": [-1.0197136, 35.6828387, 60.1674881, 37.9839412, 1.357107, 39.906217, 48.8566969, 45.4668, 43.7070273, 34.0536909, 51.5073219, 37.5622911, 46.603354, 36.5748441, 54.7023545, 47.2, -24.7761086, 61.0666922, 51.0, 51.2086975, -36.8624515, -21.0002179, 39.4009215, -30.29284845], \"legendgroup\": \"olympics\", \"lon\": [-71.9383333, 139.7594549, 24.9427473, 23.7283052, 103.8194992, 116.3912757, 2.3514616, 9.1905, 11.6858483, -118.242766, -0.1276474, 128.4295278, 1.8883335, 139.2394179, -3.2765753, 13.2, 134.755, -107.991707, 10.0, 89.2343748, 174.7207047, -61.0006565, 72.8676621, 153.12561585745573], \"marker\": {\"color\": \"#EF553B\", \"size\": [1, 4, 1, 1, 2, 3, 3, 1, 1, 3, 2, 1, 1, 1, 1, 1, 1, 1, 1, 1, 1, 1, 1, 1], \"sizemode\": \"area\", \"sizeref\": 0.0325}, \"mode\": \"markers+text\", \"name\": \"olympics\", \"showlegend\": true, \"subplot\": \"mapbox\", \"text\": [\"Wikipedia\", \"Tokyo\", \"Helsinki\", \"Athens\", \"Singapore\", \"Beijing\", \"Paris\", \"Milan\", \"Cortina\", \"Los Angeles\", \"London\", \"Pyeongchang\", \"France\", \"Japan\", \"United Kingdom\", \"Austria\", \"Australia\", \"Canada\", \"Europe\", \"Asia\", \"Southeast Asia\", \"South America\", \"Central Asia\", \"Central America\"], \"type\": \"scattermapbox\"}],                        {\"legend\": {\"itemsizing\": \"constant\", \"title\": {\"text\": \"sourcedoc\"}, \"tracegroupgap\": 0}, \"mapbox\": {\"accesstoken\": \"pk.eyJ1IjoiZWxpYXM5NDAiLCJhIjoiY2thYnRqdWF4MDVvcDJwbGY1eWVncGJnZiJ9.yQ11Ql-IQ6t1ts_cQwmUoA\", \"center\": {\"lat\": 33.516002277631586, \"lon\": 13.215701433090942}, \"domain\": {\"x\": [0.0, 1.0], \"y\": [0.0, 1.0]}, \"zoom\": 0.5}, \"margin\": {\"t\": 60}, \"template\": {\"data\": {\"bar\": [{\"error_x\": {\"color\": \"#2a3f5f\"}, \"error_y\": {\"color\": \"#2a3f5f\"}, \"marker\": {\"line\": {\"color\": \"#E5ECF6\", \"width\": 0.5}}, \"type\": \"bar\"}], \"barpolar\": [{\"marker\": {\"line\": {\"color\": \"#E5ECF6\", \"width\": 0.5}}, \"type\": \"barpolar\"}], \"carpet\": [{\"aaxis\": {\"endlinecolor\": \"#2a3f5f\", \"gridcolor\": \"white\", \"linecolor\": \"white\", \"minorgridcolor\": \"white\", \"startlinecolor\": \"#2a3f5f\"}, \"baxis\": {\"endlinecolor\": \"#2a3f5f\", \"gridcolor\": \"white\", \"linecolor\": \"white\", \"minorgridcolor\": \"white\", \"startlinecolor\": \"#2a3f5f\"}, \"type\": \"carpet\"}], \"choropleth\": [{\"colorbar\": {\"outlinewidth\": 0, \"ticks\": \"\"}, \"type\": \"choropleth\"}], \"contour\": [{\"colorbar\": {\"outlinewidth\": 0, \"ticks\": \"\"}, \"colorscale\": [[0.0, \"#0d0887\"], [0.1111111111111111, \"#46039f\"], [0.2222222222222222, \"#7201a8\"], [0.3333333333333333, \"#9c179e\"], [0.4444444444444444, \"#bd3786\"], [0.5555555555555556, \"#d8576b\"], [0.6666666666666666, \"#ed7953\"], [0.7777777777777778, \"#fb9f3a\"], [0.8888888888888888, \"#fdca26\"], [1.0, \"#f0f921\"]], \"type\": \"contour\"}], \"contourcarpet\": [{\"colorbar\": {\"outlinewidth\": 0, \"ticks\": \"\"}, \"type\": \"contourcarpet\"}], \"heatmap\": [{\"colorbar\": {\"outlinewidth\": 0, \"ticks\": \"\"}, \"colorscale\": [[0.0, \"#0d0887\"], [0.1111111111111111, \"#46039f\"], [0.2222222222222222, \"#7201a8\"], [0.3333333333333333, \"#9c179e\"], [0.4444444444444444, \"#bd3786\"], [0.5555555555555556, \"#d8576b\"], [0.6666666666666666, \"#ed7953\"], [0.7777777777777778, \"#fb9f3a\"], [0.8888888888888888, \"#fdca26\"], [1.0, \"#f0f921\"]], \"type\": \"heatmap\"}], \"heatmapgl\": [{\"colorbar\": {\"outlinewidth\": 0, \"ticks\": \"\"}, \"colorscale\": [[0.0, \"#0d0887\"], [0.1111111111111111, \"#46039f\"], [0.2222222222222222, \"#7201a8\"], [0.3333333333333333, \"#9c179e\"], [0.4444444444444444, \"#bd3786\"], [0.5555555555555556, \"#d8576b\"], [0.6666666666666666, \"#ed7953\"], [0.7777777777777778, \"#fb9f3a\"], [0.8888888888888888, \"#fdca26\"], [1.0, \"#f0f921\"]], \"type\": \"heatmapgl\"}], \"histogram\": [{\"marker\": {\"colorbar\": {\"outlinewidth\": 0, \"ticks\": \"\"}}, \"type\": \"histogram\"}], \"histogram2d\": [{\"colorbar\": {\"outlinewidth\": 0, \"ticks\": \"\"}, \"colorscale\": [[0.0, \"#0d0887\"], [0.1111111111111111, \"#46039f\"], [0.2222222222222222, \"#7201a8\"], [0.3333333333333333, \"#9c179e\"], [0.4444444444444444, \"#bd3786\"], [0.5555555555555556, \"#d8576b\"], [0.6666666666666666, \"#ed7953\"], [0.7777777777777778, \"#fb9f3a\"], [0.8888888888888888, \"#fdca26\"], [1.0, \"#f0f921\"]], \"type\": \"histogram2d\"}], \"histogram2dcontour\": [{\"colorbar\": {\"outlinewidth\": 0, \"ticks\": \"\"}, \"colorscale\": [[0.0, \"#0d0887\"], [0.1111111111111111, \"#46039f\"], [0.2222222222222222, \"#7201a8\"], [0.3333333333333333, \"#9c179e\"], [0.4444444444444444, \"#bd3786\"], [0.5555555555555556, \"#d8576b\"], [0.6666666666666666, \"#ed7953\"], [0.7777777777777778, \"#fb9f3a\"], [0.8888888888888888, \"#fdca26\"], [1.0, \"#f0f921\"]], \"type\": \"histogram2dcontour\"}], \"mesh3d\": [{\"colorbar\": {\"outlinewidth\": 0, \"ticks\": \"\"}, \"type\": \"mesh3d\"}], \"parcoords\": [{\"line\": {\"colorbar\": {\"outlinewidth\": 0, \"ticks\": \"\"}}, \"type\": \"parcoords\"}], \"pie\": [{\"automargin\": true, \"type\": \"pie\"}], \"scatter\": [{\"marker\": {\"colorbar\": {\"outlinewidth\": 0, \"ticks\": \"\"}}, \"type\": \"scatter\"}], \"scatter3d\": [{\"line\": {\"colorbar\": {\"outlinewidth\": 0, \"ticks\": \"\"}}, \"marker\": {\"colorbar\": {\"outlinewidth\": 0, \"ticks\": \"\"}}, \"type\": \"scatter3d\"}], \"scattercarpet\": [{\"marker\": {\"colorbar\": {\"outlinewidth\": 0, \"ticks\": \"\"}}, \"type\": \"scattercarpet\"}], \"scattergeo\": [{\"marker\": {\"colorbar\": {\"outlinewidth\": 0, \"ticks\": \"\"}}, \"type\": \"scattergeo\"}], \"scattergl\": [{\"marker\": {\"colorbar\": {\"outlinewidth\": 0, \"ticks\": \"\"}}, \"type\": \"scattergl\"}], \"scattermapbox\": [{\"marker\": {\"colorbar\": {\"outlinewidth\": 0, \"ticks\": \"\"}}, \"type\": \"scattermapbox\"}], \"scatterpolar\": [{\"marker\": {\"colorbar\": {\"outlinewidth\": 0, \"ticks\": \"\"}}, \"type\": \"scatterpolar\"}], \"scatterpolargl\": [{\"marker\": {\"colorbar\": {\"outlinewidth\": 0, \"ticks\": \"\"}}, \"type\": \"scatterpolargl\"}], \"scatterternary\": [{\"marker\": {\"colorbar\": {\"outlinewidth\": 0, \"ticks\": \"\"}}, \"type\": \"scatterternary\"}], \"surface\": [{\"colorbar\": {\"outlinewidth\": 0, \"ticks\": \"\"}, \"colorscale\": [[0.0, \"#0d0887\"], [0.1111111111111111, \"#46039f\"], [0.2222222222222222, \"#7201a8\"], [0.3333333333333333, \"#9c179e\"], [0.4444444444444444, \"#bd3786\"], [0.5555555555555556, \"#d8576b\"], [0.6666666666666666, \"#ed7953\"], [0.7777777777777778, \"#fb9f3a\"], [0.8888888888888888, \"#fdca26\"], [1.0, \"#f0f921\"]], \"type\": \"surface\"}], \"table\": [{\"cells\": {\"fill\": {\"color\": \"#EBF0F8\"}, \"line\": {\"color\": \"white\"}}, \"header\": {\"fill\": {\"color\": \"#C8D4E3\"}, \"line\": {\"color\": \"white\"}}, \"type\": \"table\"}]}, \"layout\": {\"annotationdefaults\": {\"arrowcolor\": \"#2a3f5f\", \"arrowhead\": 0, \"arrowwidth\": 1}, \"autotypenumbers\": \"strict\", \"coloraxis\": {\"colorbar\": {\"outlinewidth\": 0, \"ticks\": \"\"}}, \"colorscale\": {\"diverging\": [[0, \"#8e0152\"], [0.1, \"#c51b7d\"], [0.2, \"#de77ae\"], [0.3, \"#f1b6da\"], [0.4, \"#fde0ef\"], [0.5, \"#f7f7f7\"], [0.6, \"#e6f5d0\"], [0.7, \"#b8e186\"], [0.8, \"#7fbc41\"], [0.9, \"#4d9221\"], [1, \"#276419\"]], \"sequential\": [[0.0, \"#0d0887\"], [0.1111111111111111, \"#46039f\"], [0.2222222222222222, \"#7201a8\"], [0.3333333333333333, \"#9c179e\"], [0.4444444444444444, \"#bd3786\"], [0.5555555555555556, \"#d8576b\"], [0.6666666666666666, \"#ed7953\"], [0.7777777777777778, \"#fb9f3a\"], [0.8888888888888888, \"#fdca26\"], [1.0, \"#f0f921\"]], \"sequentialminus\": [[0.0, \"#0d0887\"], [0.1111111111111111, \"#46039f\"], [0.2222222222222222, \"#7201a8\"], [0.3333333333333333, \"#9c179e\"], [0.4444444444444444, \"#bd3786\"], [0.5555555555555556, \"#d8576b\"], [0.6666666666666666, \"#ed7953\"], [0.7777777777777778, \"#fb9f3a\"], [0.8888888888888888, \"#fdca26\"], [1.0, \"#f0f921\"]]}, \"colorway\": [\"#636efa\", \"#EF553B\", \"#00cc96\", \"#ab63fa\", \"#FFA15A\", \"#19d3f3\", \"#FF6692\", \"#B6E880\", \"#FF97FF\", \"#FECB52\"], \"font\": {\"color\": \"#2a3f5f\"}, \"geo\": {\"bgcolor\": \"white\", \"lakecolor\": \"white\", \"landcolor\": \"#E5ECF6\", \"showlakes\": true, \"showland\": true, \"subunitcolor\": \"white\"}, \"hoverlabel\": {\"align\": \"left\"}, \"hovermode\": \"closest\", \"mapbox\": {\"style\": \"light\"}, \"paper_bgcolor\": \"white\", \"plot_bgcolor\": \"#E5ECF6\", \"polar\": {\"angularaxis\": {\"gridcolor\": \"white\", \"linecolor\": \"white\", \"ticks\": \"\"}, \"bgcolor\": \"#E5ECF6\", \"radialaxis\": {\"gridcolor\": \"white\", \"linecolor\": \"white\", \"ticks\": \"\"}}, \"scene\": {\"xaxis\": {\"backgroundcolor\": \"#E5ECF6\", \"gridcolor\": \"white\", \"gridwidth\": 2, \"linecolor\": \"white\", \"showbackground\": true, \"ticks\": \"\", \"zerolinecolor\": \"white\"}, \"yaxis\": {\"backgroundcolor\": \"#E5ECF6\", \"gridcolor\": \"white\", \"gridwidth\": 2, \"linecolor\": \"white\", \"showbackground\": true, \"ticks\": \"\", \"zerolinecolor\": \"white\"}, \"zaxis\": {\"backgroundcolor\": \"#E5ECF6\", \"gridcolor\": \"white\", \"gridwidth\": 2, \"linecolor\": \"white\", \"showbackground\": true, \"ticks\": \"\", \"zerolinecolor\": \"white\"}}, \"shapedefaults\": {\"line\": {\"color\": \"#2a3f5f\"}}, \"ternary\": {\"aaxis\": {\"gridcolor\": \"white\", \"linecolor\": \"white\", \"ticks\": \"\"}, \"baxis\": {\"gridcolor\": \"white\", \"linecolor\": \"white\", \"ticks\": \"\"}, \"bgcolor\": \"#E5ECF6\", \"caxis\": {\"gridcolor\": \"white\", \"linecolor\": \"white\", \"ticks\": \"\"}}, \"title\": {\"x\": 0.05}, \"xaxis\": {\"automargin\": true, \"gridcolor\": \"white\", \"linecolor\": \"white\", \"ticks\": \"\", \"title\": {\"standoff\": 15}, \"zerolinecolor\": \"white\", \"zerolinewidth\": 2}, \"yaxis\": {\"automargin\": true, \"gridcolor\": \"white\", \"linecolor\": \"white\", \"ticks\": \"\", \"title\": {\"standoff\": 15}, \"zerolinecolor\": \"white\", \"zerolinewidth\": 2}}}, \"title\": {\"text\": \"Locations extracted from text\"}},                        {\"responsive\": true}                    ).then(function(){\n",
       "                            \n",
       "var gd = document.getElementById('dd821a4a-6e65-42f8-9814-ad73bd30cef4');\n",
       "var x = new MutationObserver(function (mutations, observer) {{\n",
       "        var display = window.getComputedStyle(gd).display;\n",
       "        if (!display || display === 'none') {{\n",
       "            console.log([gd, 'removed!']);\n",
       "            Plotly.purge(gd);\n",
       "            observer.disconnect();\n",
       "        }}\n",
       "}});\n",
       "\n",
       "// Listen for the removal of the full notebook cells\n",
       "var notebookContainer = gd.closest('#notebook-container');\n",
       "if (notebookContainer) {{\n",
       "    x.observe(notebookContainer, {childList: true});\n",
       "}}\n",
       "\n",
       "// Listen for the clearing of the current output cell\n",
       "var outputEl = gd.closest('.output');\n",
       "if (outputEl) {{\n",
       "    x.observe(outputEl, {childList: true});\n",
       "}}\n",
       "\n",
       "                        })                };                });            </script>        </div>"
      ]
     },
     "metadata": {},
     "output_type": "display_data"
    }
   ],
   "source": [
    "fig = px.scatter_mapbox(merged_df, lat=\"LAT\", lon=\"LON\", color=\"sourcedoc\",\n",
    "                  color_continuous_scale=px.colors.cyclical.IceFire, size=\"mentions\", zoom=.5, text=\"city\")\n",
    "\n",
    "fig.update_layout(title='Locations extracted from text')\n",
    "\n",
    "fig.show()"
   ]
  },
  {
   "cell_type": "code",
   "execution_count": null,
   "metadata": {},
   "outputs": [],
   "source": []
  }
 ],
 "metadata": {
  "kernelspec": {
   "display_name": "Python 3",
   "language": "python",
   "name": "python3"
  },
  "language_info": {
   "codemirror_mode": {
    "name": "ipython",
    "version": 3
   },
   "file_extension": ".py",
   "mimetype": "text/x-python",
   "name": "python",
   "nbconvert_exporter": "python",
   "pygments_lexer": "ipython3",
   "version": "3.7.4"
  }
 },
 "nbformat": 4,
 "nbformat_minor": 2
}

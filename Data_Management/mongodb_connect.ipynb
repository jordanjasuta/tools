{
 "cells": [
  {
   "cell_type": "code",
   "execution_count": 1,
   "metadata": {},
   "outputs": [],
   "source": [
    "import pymongo\n",
    "from bson.objectid import ObjectId\n",
    "import json\n",
    "\n",
    "user = ''\n",
    "password = ''\n",
    "pem_path = ''"
   ]
  },
  {
   "cell_type": "code",
   "execution_count": 3,
   "metadata": {},
   "outputs": [],
   "source": [
    "conn = pymongo.MongoClient(host='url-to-mongodb.amazonaws.com:27017',\n",
    "       username=user,\n",
    "       password=password,\n",
    "       authMechanism='SCRAM-SHA-1',\n",
    "       tls=True,\n",
    "       tlsCAFile=pem_path)"
   ]
  },
  {
   "cell_type": "code",
   "execution_count": null,
   "metadata": {},
   "outputs": [],
   "source": [
    "def get_field_text(oid):  \n",
    "    db = conn['APCAS_DATA']\n",
    "    table = db['extraction_results']\n",
    "\n",
    "    rows = table.find({'_id': ObjectId(oid)})\n",
    "\n",
    "    fields = []\n",
    "    for row in rows:\n",
    "#         print(row)\n",
    "        for field in row['extractedFields']:\n",
    "#             print(json.dumps(field, indent = 2))\n",
    "    return rows"
   ]
  },
  {
   "cell_type": "markdown",
   "metadata": {},
   "source": [
    "##### Note: for easiest access use MongoDB Compass - example queries below  (thanks Jill)"
   ]
  },
  {
   "cell_type": "markdown",
   "metadata": {},
   "source": [
    "https://docs.mongodb.com/manual/tutorial/query-documents/\n",
    "\n",
    "Order by latest results: \n",
    "\n",
    "`{lastModified: -1}`\n",
    "\n",
    "Value equals\n",
    "\n",
    "`{_id: ObjectId('id')}`\n",
    "\n",
    "`{presumptiveCondition: \"hypertension\"}`\n",
    "\n",
    "Value in list of values\n",
    "\n",
    "`{presumptiveCondition: {$in: [\"hypertension\", \"HTN-FT\"]}}`\n",
    "\n",
    "\n",
    "String in Text: \n",
    "\n",
    "`{\"fullPages.extractedText\": {$regex: \"[Vv]ietnam\"}} `\n",
    "\n",
    "Item in list \n",
    "\n",
    "`{\"annotations.annot_type\": { $all: [\"lab_result\"] } }`\n",
    "\n",
    "Multiple items in list\n",
    "\n",
    "`{\"annotations.annot_type\": { $all: [\"lab_result\", \"medication\"] } }`\n",
    "\n",
    "AND condition\n",
    "\n",
    "Same field: `{\"annotations.observation_date\": {$exists: true, $ne: \"\"}}`\n",
    "\n",
    "Different fields: `{\"annotations.annot_type\": \"lab_result\" , presumptiveCondition: \"HYPERTENSION\"}`\n",
    "\n",
    "OR condition\n",
    "\n",
    "Different fields: `{ $or: [ { presumptiveCondition: \"HYPERTENSION\" }, { \"annotations.annot_type\": { $all: [\"lab_result\"] } } ] }`\n",
    "\n",
    "Field not blank: \n",
    "\n",
    "`{\"annotations.observation_date\": {$exists: true, $ne: \"\"}}`\n",
    "\n",
    "NOTE: Also need to make sure it exists after find those not blank\n",
    "\n",
    "Date filters\n",
    "\n",
    "Greater than or equal to:  `{ lastModified: {$gte: new Date('2021-12-14')} }`\n",
    "\n",
    "Less than or equal to: `{ lastModified: {$lte: new Date('2021-12-14')} }`\n",
    "\n",
    "Between: `{lastModified:{$gte:new Date(\"2021-12-12\"), $lt: new Date(\"2021-12-14\")}}`\n",
    "\n",
    " \n",
    "\n"
   ]
  },
  {
   "cell_type": "code",
   "execution_count": null,
   "metadata": {},
   "outputs": [],
   "source": []
  }
 ],
 "metadata": {
  "kernelspec": {
   "display_name": "Python 3",
   "language": "python",
   "name": "python3"
  },
  "language_info": {
   "codemirror_mode": {
    "name": "ipython",
    "version": 3
   },
   "file_extension": ".py",
   "mimetype": "text/x-python",
   "name": "python",
   "nbconvert_exporter": "python",
   "pygments_lexer": "ipython3",
   "version": "3.7.4"
  }
 },
 "nbformat": 4,
 "nbformat_minor": 2
}

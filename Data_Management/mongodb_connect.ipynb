{
 "cells": [
  {
   "cell_type": "code",
   "execution_count": 1,
   "metadata": {},
   "outputs": [],
   "source": [
    "import pymongo\n",
    "from bson.objectid import ObjectId\n",
    "import json\n",
    "\n",
    "user = ''\n",
    "password = ''\n",
    "pem_path = ''"
   ]
  },
  {
   "cell_type": "code",
   "execution_count": 3,
   "metadata": {},
   "outputs": [],
   "source": [
    "conn = pymongo.MongoClient(host='url-to-mongodb.amazonaws.com:27017',\n",
    "       username=user,\n",
    "       password=password,\n",
    "       authMechanism='SCRAM-SHA-1',\n",
    "       tls=True,\n",
    "       tlsCAFile=pem_path)"
   ]
  },
  {
   "cell_type": "code",
   "execution_count": null,
   "metadata": {},
   "outputs": [],
   "source": [
    "def get_field_text(oid):  \n",
    "    db = conn['APCAS_DATA']\n",
    "    table = db['extraction_results']\n",
    "\n",
    "    rows = table.find({'_id': ObjectId(oid)})\n",
    "\n",
    "    fields = []\n",
    "    for row in rows:\n",
    "#         print(row)\n",
    "        for field in row['extractedFields']:\n",
    "#             print(json.dumps(field, indent = 2))\n",
    "    return rows"
   ]
  }
 ],
 "metadata": {
  "kernelspec": {
   "display_name": "Python 3",
   "language": "python",
   "name": "python3"
  },
  "language_info": {
   "codemirror_mode": {
    "name": "ipython",
    "version": 3
   },
   "file_extension": ".py",
   "mimetype": "text/x-python",
   "name": "python",
   "nbconvert_exporter": "python",
   "pygments_lexer": "ipython3",
   "version": "3.7.4"
  }
 },
 "nbformat": 4,
 "nbformat_minor": 2
}
